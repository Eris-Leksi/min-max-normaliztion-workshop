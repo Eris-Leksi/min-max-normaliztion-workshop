{
 "cells": [
  {
   "cell_type": "markdown",
   "metadata": {},
   "source": [
    "# 🏡 Min-Max Normalization Workshop\n",
    "\n",
    "## Team Name: Group 6\n",
    "\n",
    "## Team Members: \n",
    "\n",
    "### Eris Leksi\n",
    "\n",
    "### Reham Abuarqoub\n",
    "\n",
    "### Erica Holden\n"
   ]
  },
  {
   "cell_type": "markdown",
   "metadata": {},
   "source": [
    "## ❗ Why We Normalize: The Problem with Raw Feature Scales\n",
    "\n",
    "In housing data, features like `Price` and `Lot_Size` can have values in the hundreds of thousands, while others like `Num_Bedrooms` range from 1 to 5. This creates problems when we use algorithms that depend on numeric magnitudes.\n",
    "\n",
    "---\n",
    "\n",
    "### ⚠️ What Goes Wrong Without Normalization\n",
    "\n",
    "---\n",
    "\n",
    "### 1. 🧭 K-Nearest Neighbors (KNN)\n",
    "\n",
    "KNN uses the **Euclidean distance** formula:\n",
    "\n",
    "$$\n",
    "d = \\sqrt{(x_1 - x_2)^2 + (y_1 - y_2)^2 + \\cdots}\n",
    "$$\n",
    "\n",
    "**Example:**\n",
    "\n",
    "- $ \\text{Price}_1 = 650{,}000, \\quad \\text{Price}_2 = 250{,}000 $\n",
    "- $ \\text{Bedrooms}_1 = 3, \\quad \\text{Bedrooms}_2 = 2 $\n",
    "\n",
    "Now compute squared differences:\n",
    "\n",
    "$$\n",
    "(\\text{Price}_1 - \\text{Price}_2)^2 = (650{,}000 - 250{,}000)^2 = (400{,}000)^2 = 1.6 \\times 10^{11}\n",
    "$$\n",
    "$$\n",
    "(\\text{Bedrooms}_1 - \\text{Bedrooms}_2)^2 = (3 - 2)^2 = 1\n",
    "$$\n",
    "\n",
    "➡️ **Price dominates the distance calculation**, making smaller features like `Bedrooms` irrelevant.\n",
    "\n",
    "---\n",
    "\n",
    "### 2. 📉 Linear Regression\n",
    "\n",
    "Linear regression estimates:\n",
    "\n",
    "$$\n",
    "y = \\beta_1 \\cdot \\text{Price} + \\beta_2 \\cdot \\text{Bedrooms} + \\beta_3 \\cdot \\text{Lot\\_Size} + \\epsilon\n",
    "$$\n",
    "\n",
    "If `Price` has very large values:\n",
    "- Gradient updates for $ \\beta_1 $ will be **much larger**\n",
    "- Gradient updates for $ \\beta_2 $ (Bedrooms) will be **very small**\n",
    "\n",
    "➡️ The model overfits high-magnitude features like `Price`.\n",
    "\n",
    "---\n",
    "\n",
    "### 3. 🧠 Neural Networks\n",
    "\n",
    "A single neuron computes:\n",
    "\n",
    "$$\n",
    "z = w_1 \\cdot \\text{Price} + w_2 \\cdot \\text{Bedrooms} + w_3 \\cdot \\text{Lot\\_Size}\n",
    "$$\n",
    "\n",
    "If:\n",
    "\n",
    "- $ \\text{Price} = 650{,}000 $\n",
    "- $ \\text{Bedrooms} = 3 $\n",
    "- $ \\text{Lot\\_Size} = 8{,}000 $\n",
    "\n",
    "Then:\n",
    "\n",
    "$$\n",
    "z \\approx w_1 \\cdot 650{,}000 + w_2 \\cdot 3 + w_3 \\cdot 8{,}000\n",
    "$$\n",
    "\n",
    "➡️ Even with equal weights, `Price` contributes **most of the activation**, making it difficult for the network to learn from other features.\n",
    "\n",
    "---\n",
    "\n",
    "### ✅ Solution: Min-Max Normalization\n",
    "\n",
    "We apply the transformation:\n",
    "\n",
    "$$\n",
    "x_{\\text{normalized}} = \\frac{x - x_{\\text{min}}}{x_{\\text{max}} - x_{\\text{min}}}\n",
    "$$\n",
    "\n",
    "This scales all features to a common range (typically $[0, 1]$).\n",
    "\n",
    "| Feature      | Raw Value | Min     | Max     | Normalized Value |\n",
    "|--------------|-----------|---------|---------|------------------|\n",
    "| Price        | 650,000   | 250,000 | 800,000 | 0.72             |\n",
    "| Bedrooms     | 3         | 1       | 5       | 0.50             |\n",
    "| Lot_Size     | 8,000     | 3,000   | 10,000  | 0.714            |\n",
    "\n",
    "➡️ Now, **each feature contributes fairly** to model training or distance comparisons."
   ]
  },
  {
   "cell_type": "markdown",
   "metadata": {},
   "source": [
    "---"
   ]
  },
  {
   "cell_type": "markdown",
   "metadata": {},
   "source": [
    "## 📌 Use Case: Housing Data\n",
    "We are normalizing features from a real estate dataset to prepare it for machine learning analysis."
   ]
  },
  {
   "cell_type": "code",
   "execution_count": 1,
   "metadata": {},
   "outputs": [
    {
     "name": "stdout",
     "output_type": "stream",
     "text": [
      "  House_ID   Price  Area_sqft  Num_Bedrooms  Num_Bathrooms  Year_Built  \\\n",
      "0  H100000  574507       1462             3              3        2002   \n",
      "1  H100001  479260       1727             2              2        1979   \n",
      "2  H100002  597153       1403             5              2        1952   \n",
      "3  H100003  728454       1646             5              2        1992   \n",
      "4  H100004  464876        853             1              1        1956   \n",
      "\n",
      "   Lot_Size  \n",
      "0      4878  \n",
      "1      4943  \n",
      "2      5595  \n",
      "3      9305  \n",
      "4      7407  \n",
      "              Price    Area_sqft  Num_Bedrooms  Num_Bathrooms   Year_Built  \\\n",
      "count  2.000000e+03  2000.000000   2000.000000    2000.000000  2000.000000   \n",
      "mean   5.068961e+05  1796.453000      2.983500       1.966000  1985.689500   \n",
      "std    1.478786e+05   502.185109      1.409333       0.825945    21.159536   \n",
      "min    1.000000e+05   400.000000      1.000000       1.000000  1950.000000   \n",
      "25%    4.066002e+05  1445.000000      2.000000       1.000000  1967.000000   \n",
      "50%    5.067030e+05  1799.500000      3.000000       2.000000  1986.000000   \n",
      "75%    6.024458e+05  2132.000000      4.000000       3.000000  2003.000000   \n",
      "max    1.077909e+06  3763.000000      5.000000       3.000000  2022.000000   \n",
      "\n",
      "           Lot_Size  \n",
      "count   2000.000000  \n",
      "mean    6025.246000  \n",
      "std     2008.527265  \n",
      "min     1000.000000  \n",
      "25%     4664.000000  \n",
      "50%     6010.500000  \n",
      "75%     7414.000000  \n",
      "max    13088.000000  \n",
      "<class 'pandas.core.frame.DataFrame'>\n",
      "RangeIndex: 2000 entries, 0 to 1999\n",
      "Data columns (total 7 columns):\n",
      " #   Column         Non-Null Count  Dtype \n",
      "---  ------         --------------  ----- \n",
      " 0   House_ID       2000 non-null   object\n",
      " 1   Price          2000 non-null   int64 \n",
      " 2   Area_sqft      2000 non-null   int64 \n",
      " 3   Num_Bedrooms   2000 non-null   int64 \n",
      " 4   Num_Bathrooms  2000 non-null   int64 \n",
      " 5   Year_Built     2000 non-null   int64 \n",
      " 6   Lot_Size       2000 non-null   int64 \n",
      "dtypes: int64(6), object(1)\n",
      "memory usage: 109.5+ KB\n",
      "None\n",
      "(2000, 7)\n",
      "Index(['House_ID', 'Price', 'Area_sqft', 'Num_Bedrooms', 'Num_Bathrooms',\n",
      "       'Year_Built', 'Lot_Size'],\n",
      "      dtype='object')\n"
     ]
    }
   ],
   "source": [
    "# 🔢 Load and display dataset\n",
    "import pandas as pd\n",
    "df = pd.read_csv('housing_data.csv')\n",
    "print(df.head())\n",
    "print(df.describe())\n",
    "print(df.info())\n",
    "print(df.shape)\n",
    "print(df.columns)   "
   ]
  },
  {
   "cell_type": "markdown",
   "metadata": {},
   "source": [
    "### 🔎 Step 1 — Implement Min-Max Normalization on the Housing Dataset"
   ]
  },
  {
   "cell_type": "code",
   "execution_count": 2,
   "metadata": {},
   "outputs": [
    {
     "data": {
      "application/vnd.microsoft.datawrangler.viewer.v0+json": {
       "columns": [
        {
         "name": "index",
         "rawType": "int64",
         "type": "integer"
        },
        {
         "name": "House_ID",
         "rawType": "object",
         "type": "string"
        },
        {
         "name": "Price",
         "rawType": "float64",
         "type": "float"
        },
        {
         "name": "Area_sqft",
         "rawType": "float64",
         "type": "float"
        },
        {
         "name": "Num_Bedrooms",
         "rawType": "float64",
         "type": "float"
        },
        {
         "name": "Num_Bathrooms",
         "rawType": "float64",
         "type": "float"
        },
        {
         "name": "Year_Built",
         "rawType": "int64",
         "type": "integer"
        },
        {
         "name": "Lot_Size",
         "rawType": "float64",
         "type": "float"
        }
       ],
       "ref": "039ff064-3858-4fe4-a13a-f200f53e172a",
       "rows": [
        [
         "0",
         "H100000",
         "0.4852261304477206",
         "0.3157894736842105",
         "0.5",
         "1.0",
         "2002",
         "0.32081403044341494"
        ],
        [
         "1",
         "H100001",
         "0.3878274972415634",
         "0.39458816532857566",
         "0.25",
         "0.5",
         "1979",
         "0.3261912640635341"
        ],
        [
         "2",
         "H100002",
         "0.5083837044142144",
         "0.2982456140350877",
         "1.0",
         "0.5",
         "1952",
         "0.38012905360688287"
        ],
        [
         "3",
         "H100003",
         "0.642650798796207",
         "0.3705025275052037",
         "1.0",
         "0.5",
         "1992",
         "0.6870450033090668"
        ],
        [
         "4",
         "H100004",
         "0.3731185621566015",
         "0.13470115967885815",
         "0.0",
         "0.0",
         "1956",
         "0.5300297816015883"
        ]
       ],
       "shape": {
        "columns": 7,
        "rows": 5
       }
      },
      "text/html": [
       "<div>\n",
       "<style scoped>\n",
       "    .dataframe tbody tr th:only-of-type {\n",
       "        vertical-align: middle;\n",
       "    }\n",
       "\n",
       "    .dataframe tbody tr th {\n",
       "        vertical-align: top;\n",
       "    }\n",
       "\n",
       "    .dataframe thead th {\n",
       "        text-align: right;\n",
       "    }\n",
       "</style>\n",
       "<table border=\"1\" class=\"dataframe\">\n",
       "  <thead>\n",
       "    <tr style=\"text-align: right;\">\n",
       "      <th></th>\n",
       "      <th>House_ID</th>\n",
       "      <th>Price</th>\n",
       "      <th>Area_sqft</th>\n",
       "      <th>Num_Bedrooms</th>\n",
       "      <th>Num_Bathrooms</th>\n",
       "      <th>Year_Built</th>\n",
       "      <th>Lot_Size</th>\n",
       "    </tr>\n",
       "  </thead>\n",
       "  <tbody>\n",
       "    <tr>\n",
       "      <th>0</th>\n",
       "      <td>H100000</td>\n",
       "      <td>0.485226</td>\n",
       "      <td>0.315789</td>\n",
       "      <td>0.50</td>\n",
       "      <td>1.0</td>\n",
       "      <td>2002</td>\n",
       "      <td>0.320814</td>\n",
       "    </tr>\n",
       "    <tr>\n",
       "      <th>1</th>\n",
       "      <td>H100001</td>\n",
       "      <td>0.387827</td>\n",
       "      <td>0.394588</td>\n",
       "      <td>0.25</td>\n",
       "      <td>0.5</td>\n",
       "      <td>1979</td>\n",
       "      <td>0.326191</td>\n",
       "    </tr>\n",
       "    <tr>\n",
       "      <th>2</th>\n",
       "      <td>H100002</td>\n",
       "      <td>0.508384</td>\n",
       "      <td>0.298246</td>\n",
       "      <td>1.00</td>\n",
       "      <td>0.5</td>\n",
       "      <td>1952</td>\n",
       "      <td>0.380129</td>\n",
       "    </tr>\n",
       "    <tr>\n",
       "      <th>3</th>\n",
       "      <td>H100003</td>\n",
       "      <td>0.642651</td>\n",
       "      <td>0.370503</td>\n",
       "      <td>1.00</td>\n",
       "      <td>0.5</td>\n",
       "      <td>1992</td>\n",
       "      <td>0.687045</td>\n",
       "    </tr>\n",
       "    <tr>\n",
       "      <th>4</th>\n",
       "      <td>H100004</td>\n",
       "      <td>0.373119</td>\n",
       "      <td>0.134701</td>\n",
       "      <td>0.00</td>\n",
       "      <td>0.0</td>\n",
       "      <td>1956</td>\n",
       "      <td>0.530030</td>\n",
       "    </tr>\n",
       "  </tbody>\n",
       "</table>\n",
       "</div>"
      ],
      "text/plain": [
       "  House_ID     Price  Area_sqft  Num_Bedrooms  Num_Bathrooms  Year_Built  \\\n",
       "0  H100000  0.485226   0.315789          0.50            1.0        2002   \n",
       "1  H100001  0.387827   0.394588          0.25            0.5        1979   \n",
       "2  H100002  0.508384   0.298246          1.00            0.5        1952   \n",
       "3  H100003  0.642651   0.370503          1.00            0.5        1992   \n",
       "4  H100004  0.373119   0.134701          0.00            0.0        1956   \n",
       "\n",
       "   Lot_Size  \n",
       "0  0.320814  \n",
       "1  0.326191  \n",
       "2  0.380129  \n",
       "3  0.687045  \n",
       "4  0.530030  "
      ]
     },
     "execution_count": 2,
     "metadata": {},
     "output_type": "execute_result"
    }
   ],
   "source": [
    "# Columns to normalize\n",
    "columns_to_normalize = ['Price', 'Area_sqft', 'Num_Bedrooms', 'Num_Bathrooms', 'Lot_Size']\n",
    "\n",
    "# Manually apply Min-Max normalization\n",
    "for col in columns_to_normalize:\n",
    "    min_val = df[col].min()\n",
    "    max_val = df[col].max()\n",
    "    df[col] = df[col].apply(lambda x: (x - min_val) / (max_val - min_val))\n",
    "\n",
    "# Preview the result\n",
    "df.head()"
   ]
  },
  {
   "cell_type": "markdown",
   "metadata": {},
   "source": [
    "### 🔎 Talking Point 1 — [Insert your review comment here]\n",
    "\n",
    "Reviwed by:\n",
    "- Name\n",
    "- Name\n",
    "- Name"
   ]
  }
 ],
 "metadata": {
  "kernelspec": {
   "display_name": "base",
   "language": "python",
   "name": "python3"
  },
  "language_info": {
   "codemirror_mode": {
    "name": "ipython",
    "version": 3
   },
   "file_extension": ".py",
   "mimetype": "text/x-python",
   "name": "python",
   "nbconvert_exporter": "python",
   "pygments_lexer": "ipython3",
   "version": "3.12.2"
  }
 },
 "nbformat": 4,
 "nbformat_minor": 2
}
